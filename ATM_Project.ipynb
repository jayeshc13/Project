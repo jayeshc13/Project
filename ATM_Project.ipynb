{
 "cells": [
  {
   "cell_type": "code",
   "execution_count": 2,
   "id": "a69810f9-7298-456c-bdf9-b7e1f2681fed",
   "metadata": {},
   "outputs": [
    {
     "name": "stdout",
     "output_type": "stream",
     "text": [
      "Welcome\n",
      "Please enter your Card\n"
     ]
    },
    {
     "name": "stdin",
     "output_type": "stream",
     "text": [
      "Enter pin 1285\n"
     ]
    },
    {
     "name": "stdout",
     "output_type": "stream",
     "text": [
      "The pin is correct\n",
      "1 for Balance Enquiry.\n",
      "2 for Withdrawl.\n",
      "3 for Change pin.\n",
      "4 for Deposit.\n",
      "5 for Mini Statement.\n",
      "6 for Exit\n"
     ]
    },
    {
     "name": "stdin",
     "output_type": "stream",
     "text": [
      "Enter the option. 1\n"
     ]
    },
    {
     "name": "stdout",
     "output_type": "stream",
     "text": [
      "Your available balance is 5000\n",
      "Thank you for banking with us.\n",
      "Have a great day :)\n"
     ]
    }
   ],
   "source": [
    "balance=5000\n",
    "fixamnt=1000\n",
    "print(\"Welcome\")\n",
    "print(\"Please enter your Card\")\n",
    "a=int(input(\"Enter pin\"))\n",
    "if(a==1285):\n",
    "    print(\"The pin is correct\")    \n",
    "\n",
    "\n",
    "    print(\"1 for Balance Enquiry.\")\n",
    "    print(\"2 for Withdrawl.\")\n",
    "    print(\"3 for Change pin.\")\n",
    "    print(\"4 for Deposit.\")\n",
    "    print(\"5 for Mini Statement.\")\n",
    "    print(\"6 for Exit\")\n",
    "\n",
    "    b=int(input(\"Enter the option.\"))\n",
    "    if(b==1):\n",
    "        print(\"Your available balance is\",balance)\n",
    "    elif(b==2):\n",
    "        print(\"Enter the amount.\")\n",
    "        c=int(input(\"\"))\n",
    "        if(c>balance):\n",
    "            print(\"Insufficient balance :(\")\n",
    "        elif(c<=balance):\n",
    "            print(\"The available balance is\",balance-c)\n",
    "        else:\n",
    "            print(\"\")         \n",
    "    elif(b==3):\n",
    "        print(\"Enter new Pin.\")\n",
    "        d=int(input(\"\"))\n",
    "        print(\"Your pin is changed successfully :)\")\n",
    "    elif(b==4):\n",
    "        print(\"Enter the cash.\")\n",
    "        z=int(input(\"\"))\n",
    "        print(\"Your Cash is deposited.\")\n",
    "        print(\"The available balance is\",balance+z)\n",
    "    elif(b==5):\n",
    "        print(\"Sorry this feature is not available.\")\n",
    "    elif(b==6):\n",
    "        print(\"Okay\")\n",
    "\n",
    "else:\n",
    "    print(\"The pin is incorrect.\")     \n",
    "print(\"Thank you for banking with us.\")\n",
    "print(\"Have a great day :)\")"
   ]
  },
  {
   "cell_type": "code",
   "execution_count": null,
   "id": "5e5e2059-0d01-4115-b590-68e79ea0fe3d",
   "metadata": {},
   "outputs": [],
   "source": []
  }
 ],
 "metadata": {
  "kernelspec": {
   "display_name": "Python 3 (ipykernel)",
   "language": "python",
   "name": "python3"
  },
  "language_info": {
   "codemirror_mode": {
    "name": "ipython",
    "version": 3
   },
   "file_extension": ".py",
   "mimetype": "text/x-python",
   "name": "python",
   "nbconvert_exporter": "python",
   "pygments_lexer": "ipython3",
   "version": "3.11.7"
  }
 },
 "nbformat": 4,
 "nbformat_minor": 5
}
