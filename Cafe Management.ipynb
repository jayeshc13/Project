{
 "cells": [
  {
   "cell_type": "code",
   "execution_count": 16,
   "id": "47cfd8ca-73b0-4ff0-a274-f1f8c1b0acd9",
   "metadata": {},
   "outputs": [
    {
     "name": "stdout",
     "output_type": "stream",
     "text": [
      "Welcome to our restaurant. Here's the Menu:\n",
      "Pizza :Rs40\n",
      "Pasta: Rs50\n",
      "Burger :Rs70\n",
      "Salad: Rs70\n",
      "Coffee: Rs90\n",
      "Cold Coffee: Rs100\n"
     ]
    },
    {
     "name": "stdin",
     "output_type": "stream",
     "text": [
      "Enter the name of item you want to order=  Coffee\n"
     ]
    },
    {
     "name": "stdout",
     "output_type": "stream",
     "text": [
      "Your item has been added to your order Coffee\n"
     ]
    },
    {
     "name": "stdin",
     "output_type": "stream",
     "text": [
      "Do you want to add another item? (Yes/No) Yes\n",
      "Enter the name of second item Cold Coffee\n"
     ]
    },
    {
     "name": "stdout",
     "output_type": "stream",
     "text": [
      "Item  has been added to order Cold Coffee\n",
      "The total amount to pay 100\n"
     ]
    }
   ],
   "source": [
    "print(\"Welcome to our restaurant. Here's the Menu:\")\n",
    "menu={ \"Pizza\": 40, \n",
    "       \"Pasta\": 50,\n",
    "       \"Burger\": 70,\n",
    "       \"Salad\": 70,\n",
    "       \"Coffee\": 90,\n",
    "       \"Cold Coffee\": 100\n",
    "     }\n",
    "print(\"Pizza :Rs40\\nPasta: Rs50\\nBurger :Rs70\\nSalad: Rs70\\nCoffee: Rs90\\nCold Coffee: Rs100\")\n",
    "\n",
    "order_total=0\n",
    "\n",
    "item1=input(\"Enter the name of item you want to order= \")\n",
    "if item1 in menu:\n",
    "    order_total =menu[item1]\n",
    "    print(\"Your item has been added to your order\",item1) \n",
    "\n",
    "else:\n",
    "    print(\"Ordered item  is not available yet!\",item1)\n",
    "\n",
    "another_order = input(\"Do you want to add another item? (Yes/No)\")\n",
    "\n",
    "if another_order ==\"Yes\":\n",
    "    item2= input(\"Enter the name of second item\")\n",
    "    if item2 in menu:\n",
    "        order_total = ordermenu[item2]\n",
    "        print(\"Item  has been added to order\", item2)\n",
    "        \n",
    "    else:\n",
    "        print(\"Order item  is not available !\",item2)\n",
    "\n",
    "print(\"The total amount to pay\",order_total )"
   ]
  },
  {
   "cell_type": "code",
   "execution_count": null,
   "id": "9a522203-6cb5-4560-9a63-1e9887c022b5",
   "metadata": {},
   "outputs": [],
   "source": []
  }
 ],
 "metadata": {
  "kernelspec": {
   "display_name": "Python 3 (ipykernel)",
   "language": "python",
   "name": "python3"
  },
  "language_info": {
   "codemirror_mode": {
    "name": "ipython",
    "version": 3
   },
   "file_extension": ".py",
   "mimetype": "text/x-python",
   "name": "python",
   "nbconvert_exporter": "python",
   "pygments_lexer": "ipython3",
   "version": "3.11.7"
  }
 },
 "nbformat": 4,
 "nbformat_minor": 5
}
