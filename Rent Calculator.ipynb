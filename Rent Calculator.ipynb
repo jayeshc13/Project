{
 "cells": [
  {
   "cell_type": "code",
   "execution_count": 9,
   "id": "644a1180-daa1-4c74-b702-ae27e131d573",
   "metadata": {},
   "outputs": [
    {
     "name": "stdin",
     "output_type": "stream",
     "text": [
      "Enter the rent =  7000\n",
      "Enter the cost of food ordered  2000\n",
      "Enter grocery amount  800\n",
      "Enter the electricity spend 500\n",
      "Enter the charge per unit 10\n",
      "Enter no. of persons living 2\n"
     ]
    },
    {
     "name": "stdout",
     "output_type": "stream",
     "text": [
      "Each person will pay =  7400.0\n"
     ]
    }
   ],
   "source": [
    "#Total rent\n",
    "#Total food\n",
    "#Total Electricity\n",
    "#Charge per unit\n",
    "#grocery \n",
    "#no.of persons\n",
    "\n",
    "rent=int(input(\"Enter the rent = \")) \n",
    "food= int(input(\"Enter the cost of food ordered \"))\n",
    "grocery= int(input(\"Enter grocery amount \")) \n",
    "electricity_spend= int(input(\"Enter the electricity spend\"))\n",
    "charge_per_unit= int(input(\"Enter the charge per unit\"))\n",
    "persons = int(input(\"Enter no. of persons living\"))\n",
    "\n",
    "total_bill = electricity_spend * charge_per_unit\n",
    "\n",
    "output = (food + rent + total_bill + grocery)/persons\n",
    "\n",
    "print(\"Each person will pay = \",output)"
   ]
  },
  {
   "cell_type": "code",
   "execution_count": null,
   "id": "f5c7b610-1a9c-4f45-8857-fff9e0b3a0a8",
   "metadata": {},
   "outputs": [],
   "source": []
  }
 ],
 "metadata": {
  "kernelspec": {
   "display_name": "Python 3 (ipykernel)",
   "language": "python",
   "name": "python3"
  },
  "language_info": {
   "codemirror_mode": {
    "name": "ipython",
    "version": 3
   },
   "file_extension": ".py",
   "mimetype": "text/x-python",
   "name": "python",
   "nbconvert_exporter": "python",
   "pygments_lexer": "ipython3",
   "version": "3.11.7"
  }
 },
 "nbformat": 4,
 "nbformat_minor": 5
}
