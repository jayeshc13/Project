{
 "cells": [
  {
   "cell_type": "code",
   "execution_count": 4,
   "id": "f08ccf84-8ffa-4ae0-9910-78795407b7da",
   "metadata": {},
   "outputs": [
    {
     "name": "stdin",
     "output_type": "stream",
     "text": [
      "Enter your move = Stone ,Paper ,Scissor:  Paper\n"
     ]
    },
    {
     "name": "stdout",
     "output_type": "stream",
     "text": [
      "User Choice = Paper, Computer Choice = Scissor\n",
      "Scissor will cut the paper = Computer Wins\n"
     ]
    }
   ],
   "source": [
    "\"\"\" WORKFLOW OF PROJECT:\n",
    "1- Input from the user(Rock,Paper,Scissor)\n",
    "2 - Computer choice (Computer will choose randomly)\n",
    "3- Result print\n",
    "\n",
    "Cases:\n",
    "A- Stone\n",
    "Stone - Stone = tie\n",
    "Stone - Paper = Paper win\n",
    "Stone - Scissor = Stone Win\n",
    "\n",
    "B- Paper\n",
    "Paper - Paper = tie\n",
    "Paper - Stone = Paper wins\n",
    "Paper - Scissor = Scissor Win\n",
    "\n",
    "C- Scissor\n",
    "Scissor - Stone = Stone win\n",
    "Scissor - Paper = Paper Wins\n",
    "Scissor - Scissor = tie\n",
    "\"\"\"\n",
    "import random\n",
    "item_list = [\"Stone\" , \"Paper\" , \"Scissor\"]\n",
    "user_choice = input(\"Enter your move = Stone ,Paper ,Scissor: \")\n",
    "computer_choice =random.choice(item_list)\n",
    "\n",
    "print(f'User Choice = {user_choice}, Computer Choice = {computer_choice}')\n",
    "\n",
    "if user_choice==computer_choice:\n",
    "    print(\"Both chooses same match is Tie\")\n",
    "\n",
    "elif user_choice == \"Stone\":\n",
    "    if computer_choice == \"Paper\":\n",
    "        print(\"Paper covers Stone = Computer Wins\")\n",
    "\n",
    "    else:\n",
    "        print(\"Stone will smash the Scissor = You Win :)\")\n",
    "\n",
    "elif user_choice==\"Paper\":\n",
    "    if computer_choice==\"Stone\":\n",
    "        print(\"Paper covers Stone = You win :)\")\n",
    "\n",
    "    else:\n",
    "        print(\"Scissor will cut the paper = Computer Wins\")\n",
    "\n",
    "elif user_choice==\"Scissor\":\n",
    "    if  computer_choice==\"Paper\":\n",
    "        print(\"Scissor will cut the paper = You Win :)\")\n",
    "\n",
    "    else:\n",
    "        print(\"Stone will smash the Scissor = Computer wins\")\n",
    "\n"
   ]
  },
  {
   "cell_type": "code",
   "execution_count": null,
   "id": "785ca524-e466-4fb3-aae3-8f5c90451949",
   "metadata": {},
   "outputs": [],
   "source": []
  }
 ],
 "metadata": {
  "kernelspec": {
   "display_name": "Python 3 (ipykernel)",
   "language": "python",
   "name": "python3"
  },
  "language_info": {
   "codemirror_mode": {
    "name": "ipython",
    "version": 3
   },
   "file_extension": ".py",
   "mimetype": "text/x-python",
   "name": "python",
   "nbconvert_exporter": "python",
   "pygments_lexer": "ipython3",
   "version": "3.11.7"
  }
 },
 "nbformat": 4,
 "nbformat_minor": 5
}
