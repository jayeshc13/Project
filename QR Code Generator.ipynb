{
 "cells": [
  {
   "cell_type": "code",
   "execution_count": 1,
   "id": "e505a1ad-031d-452f-8673-06adf99b8fea",
   "metadata": {},
   "outputs": [
    {
     "name": "stdout",
     "output_type": "stream",
     "text": [
      "Requirement already satisfied: qrcode in c:\\users\\s\\anaconda3\\lib\\site-packages (7.4.2)\n",
      "Requirement already satisfied: typing-extensions in c:\\users\\s\\anaconda3\\lib\\site-packages (from qrcode) (4.9.0)\n",
      "Requirement already satisfied: pypng in c:\\users\\s\\anaconda3\\lib\\site-packages (from qrcode) (0.20220715.0)\n",
      "Requirement already satisfied: colorama in c:\\users\\s\\anaconda3\\lib\\site-packages (from qrcode) (0.4.6)\n",
      "Note: you may need to restart the kernel to use updated packages.\n"
     ]
    }
   ],
   "source": [
    "pip install qrcode"
   ]
  },
  {
   "cell_type": "code",
   "execution_count": 2,
   "id": "ff1f82b3-6b89-4884-bf09-ab5db9d39a40",
   "metadata": {},
   "outputs": [
    {
     "name": "stdout",
     "output_type": "stream",
     "text": [
      "Requirement already satisfied: pillow in c:\\users\\s\\anaconda3\\lib\\site-packages (10.2.0)\n",
      "Note: you may need to restart the kernel to use updated packages.\n"
     ]
    }
   ],
   "source": [
    "pip install pillow"
   ]
  },
  {
   "cell_type": "code",
   "execution_count": 3,
   "id": "ab0b52e9-4221-4f89-a5eb-6541c3183a20",
   "metadata": {},
   "outputs": [],
   "source": [
    "import qrcode\n"
   ]
  },
  {
   "cell_type": "code",
   "execution_count": 6,
   "id": "1f319d4b-0f38-4367-9baf-576be1ad9dee",
   "metadata": {},
   "outputs": [
    {
     "name": "stdin",
     "output_type": "stream",
     "text": [
      "Enter your UPI ID =  9665038395@ybl\n"
     ]
    }
   ],
   "source": [
    "upi_id= input(\"Enter your UPI ID = \")\n",
    "\n",
    "#upi://pay?pa=UPI_ID&pn=NAME&am=Amount&cu=CURRENCY&tn=MESSAGE #pa=upi id to which we have to pay  \n",
    "\n",
    "#pn=recipient name  \n",
    "#am=amount \n",
    "#cu=currency(INR)  \n",
    "#tn=thanks msg\n",
    "\n",
    "#Defining the payment url based on upi id\n",
    "\n",
    "phonepe_url = f'upi://pay?pa={upi_id}&pn=Recipient%20Name&mc=1234'   #through f'string we can embed variable into string\n",
    "google_pay_url = f'upi://pay?pa={upi_id}&pn=Recipient%20Name&mc=1234'    #mc merchant code\n",
    "paytm_url = f'upi://pay?pa={upi_id}&pn=Recipient%20Name&mc=1234'\n",
    "#Create qr code for each app\n",
    "phonepe_qr= qrcode.make(phonepe_url)\n",
    "google_pay_qr= qrcode.make(google_pay_url)\n",
    "paytm_qr= qrcode.make(paytm_url)\n",
    "\n",
    "#Save the QR code to image file(optional)\n",
    "phonepe_qr.save('phonepe_qr.png')\n",
    "google_pay_qr.save('google_pay_qr.png')\n",
    "paytm_qr.save('paytmqr.png')\n",
    "\n",
    "# Display the qr code(Pillow library)\n",
    "\n",
    "phonepe_qr.show()\n",
    "google_pay_qr.show()\n",
    "paytm_qr.show()"
   ]
  },
  {
   "cell_type": "code",
   "execution_count": null,
   "id": "d717cdc8-8e14-451d-9c40-01f19a255686",
   "metadata": {},
   "outputs": [],
   "source": []
  }
 ],
 "metadata": {
  "kernelspec": {
   "display_name": "Python 3 (ipykernel)",
   "language": "python",
   "name": "python3"
  },
  "language_info": {
   "codemirror_mode": {
    "name": "ipython",
    "version": 3
   },
   "file_extension": ".py",
   "mimetype": "text/x-python",
   "name": "python",
   "nbconvert_exporter": "python",
   "pygments_lexer": "ipython3",
   "version": "3.11.7"
  }
 },
 "nbformat": 4,
 "nbformat_minor": 5
}
