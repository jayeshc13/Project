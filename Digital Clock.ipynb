{
 "cells": [
  {
   "cell_type": "code",
   "execution_count": 13,
   "id": "e3a7cfc2-6864-42c8-b5b0-b3981d64575f",
   "metadata": {},
   "outputs": [],
   "source": [
    "import tkinter as tk\n",
    "from time import strftime\n",
    "\n",
    "root=tk.Tk()\n",
    "root.title(\"Digital Clock\")\n",
    "\n",
    "def time():\n",
    "    string=strftime(\"%H:%M:%S %p \\n %D\")\n",
    "    label.config(text=string)\n",
    "    label.after(1000,time)\n",
    "\n",
    "label=tk.Label(root,font=(\"calibri,500,bold\"),background=\"Pink\",foreground=\"Black\")\n",
    "label.pack(anchor=\"center\")\n",
    "\n",
    "time()\n",
    "\n",
    "root.mainloop()"
   ]
  },
  {
   "cell_type": "code",
   "execution_count": null,
   "id": "c5738362-136c-494f-8c81-a7eae8076337",
   "metadata": {},
   "outputs": [],
   "source": []
  }
 ],
 "metadata": {
  "kernelspec": {
   "display_name": "Python 3 (ipykernel)",
   "language": "python",
   "name": "python3"
  },
  "language_info": {
   "codemirror_mode": {
    "name": "ipython",
    "version": 3
   },
   "file_extension": ".py",
   "mimetype": "text/x-python",
   "name": "python",
   "nbconvert_exporter": "python",
   "pygments_lexer": "ipython3",
   "version": "3.11.7"
  }
 },
 "nbformat": 4,
 "nbformat_minor": 5
}
