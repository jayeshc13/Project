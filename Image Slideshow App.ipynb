{
 "cells": [
  {
   "cell_type": "code",
   "execution_count": 1,
   "id": "69bb583b-79aa-4ca8-8142-ac2c1171c117",
   "metadata": {},
   "outputs": [
    {
     "name": "stdout",
     "output_type": "stream",
     "text": [
      "Requirement already satisfied: pillow in c:\\users\\s\\anaconda3\\lib\\site-packages (10.2.0)Note: you may need to restart the kernel to use updated packages.\n",
      "\n"
     ]
    }
   ],
   "source": [
    "pip install pillow"
   ]
  },
  {
   "cell_type": "code",
   "execution_count": 1,
   "id": "a1363d54-0e99-4262-a1b5-7c73d9ce98fe",
   "metadata": {},
   "outputs": [],
   "source": [
    "from itertools import cycle"
   ]
  },
  {
   "cell_type": "code",
   "execution_count": 2,
   "id": "ad2f4945-fcd6-4522-ad3d-6a24cabf0f92",
   "metadata": {},
   "outputs": [],
   "source": [
    "from PIL import Image,ImageTk"
   ]
  },
  {
   "cell_type": "code",
   "execution_count": 3,
   "id": "a615cf46-ca29-48db-a8d2-1ef10974a596",
   "metadata": {},
   "outputs": [],
   "source": [
    "import time"
   ]
  },
  {
   "cell_type": "code",
   "execution_count": 4,
   "id": "be823b29-4723-448b-853c-86ef549ed285",
   "metadata": {},
   "outputs": [],
   "source": [
    "import tkinter as tk   # for buttons"
   ]
  },
  {
   "cell_type": "code",
   "execution_count": 9,
   "id": "1db6cf58-b2fc-43c6-a30b-8af10f4f2790",
   "metadata": {},
   "outputs": [
    {
     "ename": "PermissionError",
     "evalue": "[Errno 13] Permission denied: 'C:\\\\Users\\\\s\\\\Desktop\\\\Photo'",
     "output_type": "error",
     "traceback": [
      "\u001b[1;31m---------------------------------------------------------------------------\u001b[0m",
      "\u001b[1;31mPermissionError\u001b[0m                           Traceback (most recent call last)",
      "Cell \u001b[1;32mIn[9], line 14\u001b[0m\n\u001b[0;32m     12\u001b[0m \u001b[38;5;66;03m#Resize the image to 1080x1080\u001b[39;00m\n\u001b[0;32m     13\u001b[0m image_size\u001b[38;5;241m=\u001b[39m(\u001b[38;5;241m1080\u001b[39m,\u001b[38;5;241m1080\u001b[39m)\n\u001b[1;32m---> 14\u001b[0m images\u001b[38;5;241m=\u001b[39m[Image\u001b[38;5;241m.\u001b[39mopen(path)\u001b[38;5;241m.\u001b[39m resize(image_size) \u001b[38;5;28;01mfor\u001b[39;00m path \u001b[38;5;129;01min\u001b[39;00m image_paths]\n\u001b[0;32m     15\u001b[0m photo_images\u001b[38;5;241m=\u001b[39m[ImageTk\u001b[38;5;241m.\u001b[39mPhotoImage(image) \u001b[38;5;28;01mfor\u001b[39;00m image \u001b[38;5;129;01min\u001b[39;00m images]\n\u001b[0;32m     17\u001b[0m label\u001b[38;5;241m=\u001b[39mtk\u001b[38;5;241m.\u001b[39mLabel(root)\n",
      "Cell \u001b[1;32mIn[9], line 14\u001b[0m, in \u001b[0;36m<listcomp>\u001b[1;34m(.0)\u001b[0m\n\u001b[0;32m     12\u001b[0m \u001b[38;5;66;03m#Resize the image to 1080x1080\u001b[39;00m\n\u001b[0;32m     13\u001b[0m image_size\u001b[38;5;241m=\u001b[39m(\u001b[38;5;241m1080\u001b[39m,\u001b[38;5;241m1080\u001b[39m)\n\u001b[1;32m---> 14\u001b[0m images\u001b[38;5;241m=\u001b[39m[Image\u001b[38;5;241m.\u001b[39mopen(path)\u001b[38;5;241m.\u001b[39m resize(image_size) \u001b[38;5;28;01mfor\u001b[39;00m path \u001b[38;5;129;01min\u001b[39;00m image_paths]\n\u001b[0;32m     15\u001b[0m photo_images\u001b[38;5;241m=\u001b[39m[ImageTk\u001b[38;5;241m.\u001b[39mPhotoImage(image) \u001b[38;5;28;01mfor\u001b[39;00m image \u001b[38;5;129;01min\u001b[39;00m images]\n\u001b[0;32m     17\u001b[0m label\u001b[38;5;241m=\u001b[39mtk\u001b[38;5;241m.\u001b[39mLabel(root)\n",
      "File \u001b[1;32m~\\anaconda3\\Lib\\site-packages\\PIL\\Image.py:3247\u001b[0m, in \u001b[0;36mopen\u001b[1;34m(fp, mode, formats)\u001b[0m\n\u001b[0;32m   3244\u001b[0m     filename \u001b[38;5;241m=\u001b[39m fp\n\u001b[0;32m   3246\u001b[0m \u001b[38;5;28;01mif\u001b[39;00m filename:\n\u001b[1;32m-> 3247\u001b[0m     fp \u001b[38;5;241m=\u001b[39m builtins\u001b[38;5;241m.\u001b[39mopen(filename, \u001b[38;5;124m\"\u001b[39m\u001b[38;5;124mrb\u001b[39m\u001b[38;5;124m\"\u001b[39m)\n\u001b[0;32m   3248\u001b[0m     exclusive_fp \u001b[38;5;241m=\u001b[39m \u001b[38;5;28;01mTrue\u001b[39;00m\n\u001b[0;32m   3250\u001b[0m \u001b[38;5;28;01mtry\u001b[39;00m:\n",
      "\u001b[1;31mPermissionError\u001b[0m: [Errno 13] Permission denied: 'C:\\\\Users\\\\s\\\\Desktop\\\\Photo'"
     ]
    }
   ],
   "source": [
    "root=tk.Tk()\n",
    "root.title(\"Image Slideshow Viewer\")     #Headline/Title\n",
    "\n",
    "#List of image Path\n",
    "image_paths= [\n",
    "    r\"C:\\Users\\s\\Desktop\\Photo\",    # r= RawString\n",
    "    r\"C:\\Users\\s\\Desktop\\Photo\",\n",
    "    r\"C:\\Users\\s\\Desktop\\Photo\",\n",
    "\n",
    "]\n",
    "\n",
    "#Resize the image to 1080x1080\n",
    "image_size=(1080,1080)\n",
    "images=[Image.open(path). resize(image_size) for path in image_paths]\n",
    "photo_images=[ImageTk.PhotoImage(image) for image in images]\n",
    "\n",
    "label=tk.Label(root)\n",
    "label.pack()\n",
    "\n",
    "def update_image():\n",
    "    for photo_image in photo_images:\n",
    "        label.config(image=photo_image)\n",
    "        label.update()\n",
    "        time.sleep(4)\n",
    "\n",
    "slideshow = cycle(photo_images)\n",
    "\n",
    "def start_slideshow():\n",
    "    for _ in range(len(image_paths)):\n",
    "        update_image()\n",
    "\n",
    "play_button = tk.Button(root,text=\"Play Slideshow\", command=start_slideshow)\n",
    "play_button.pack()\n",
    "\n",
    "root.mainloop()"
   ]
  },
  {
   "cell_type": "code",
   "execution_count": null,
   "id": "776fcefe-23dc-45f8-bf8d-2282e0f0644f",
   "metadata": {},
   "outputs": [],
   "source": []
  }
 ],
 "metadata": {
  "kernelspec": {
   "display_name": "Python 3 (ipykernel)",
   "language": "python",
   "name": "python3"
  },
  "language_info": {
   "codemirror_mode": {
    "name": "ipython",
    "version": 3
   },
   "file_extension": ".py",
   "mimetype": "text/x-python",
   "name": "python",
   "nbconvert_exporter": "python",
   "pygments_lexer": "ipython3",
   "version": "3.11.7"
  }
 },
 "nbformat": 4,
 "nbformat_minor": 5
}
